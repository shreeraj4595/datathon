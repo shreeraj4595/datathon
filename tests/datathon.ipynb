{
 "cells": [
  {
   "cell_type": "code",
   "execution_count": 6,
   "metadata": {},
   "outputs": [],
   "source": [
    "#import sys\n",
    "#!{sys.executable} -m pip install wheel matplotlib\n",
    "from fastapi import FastAPI\n",
    "import json\n",
    "import requests\n",
    "from IPython.display import JSON\n",
    "import datetime\n",
    "import matplotlib.pyplot as plt"
   ]
  },
  {
   "cell_type": "code",
   "execution_count": 11,
   "metadata": {},
   "outputs": [],
   "source": [
    "plt.rcParams[\"figure.figsize\"] = [7.00, 3.50]\n",
    "plt.rcParams[\"figure.autolayout\"] = True"
   ]
  },
  {
   "cell_type": "code",
   "execution_count": 38,
   "metadata": {},
   "outputs": [],
   "source": [
    "def get_date_difference():\n",
    "    url = \"https://search-nv-es-dyson-datathon-vyflvahvmenbfs7t642iz62zia.us-east-1.es.amazonaws.com/_search\"\n",
    "\n",
    "    payload = json.dumps({\n",
    "    \"version\": True,\n",
    "    \"size\": 7750,\n",
    "    \"sort\": [\n",
    "        {\n",
    "        \"_score\": {\n",
    "            \"order\": \"desc\"\n",
    "        }\n",
    "        }\n",
    "    ],\n",
    "    \"query\": {\n",
    "        \"bool\": {\n",
    "        \"must\": [],\n",
    "        \"filter\": [\n",
    "            {\n",
    "            \"match_all\": {}\n",
    "            },\n",
    "            {\n",
    "            \"exists\": {\n",
    "                \"field\": \"dates_accepted\"\n",
    "            }\n",
    "            }\n",
    "        ],\n",
    "        \"should\": [],\n",
    "        \"must_not\": []\n",
    "        }\n",
    "    },\n",
    "    \"_source\": [\n",
    "        \"dates_accepted\",\n",
    "        \"dates_online\"\n",
    "    ]\n",
    "    })\n",
    "    headers = {\n",
    "    'Content-Type': 'application/json'\n",
    "    }\n",
    "\n",
    "    response = requests.request(\"GET\", url, headers=headers, data=payload)\n",
    "    \n",
    "    format = '%Y-%m-%d'\n",
    "    \n",
    "    #print(response.text)\n",
    "    ret = json.loads(response.text)\n",
    "    #print(ret['hits']['hits'])\n",
    "    print(len(ret['hits']['hits']))\n",
    "    map_list = []\n",
    "    for data in ret['hits']['hits']:\n",
    "        if 'dates_accepted' in data['_source'] and 'dates_online' in data['_source']:\n",
    "            #print(data['_source']['dates_accepted'])\n",
    "            #print(data['_source']['dates_online'])\n",
    "            #print(type(data['_source']['dates_online']))\n",
    "            dates_accepted_datetime = datetime.datetime.strptime(data['_source']['dates_accepted'], format)\n",
    "            dates_online_datetime = datetime.datetime.strptime(data['_source']['dates_online'], format)\n",
    "            #print(f'{dates_accepted_datetime.date()}, {dates_online_datetime.date()}')\n",
    "            d = dates_online_datetime - dates_accepted_datetime\n",
    "            #print(d.days)\n",
    "            if d.days > 0:\n",
    "                map_list.append(d.days)\n",
    "    #return JSON(json.loads(response.text),expanded=True)\n",
    "    plt.plot(map_list)\n",
    "    # Display the plot\n",
    "    plt.show()"
   ]
  },
  {
   "cell_type": "code",
   "execution_count": 39,
   "metadata": {},
   "outputs": [
    {
     "name": "stdout",
     "output_type": "stream",
     "text": [
      "7750\n"
     ]
    },
    {
     "data": {
      "image/png": "[encoded data removed]",
      "text/plain": [
       "<Figure size 504x252 with 1 Axes>"
      ]
     },
     "metadata": {
      "needs_background": "light"
     },
     "output_type": "display_data"
    }
   ],
   "source": [
    "get_date_difference()"
   ]
  },
  {
   "cell_type": "code",
   "execution_count": null,
   "metadata": {},
   "outputs": [],
   "source": []
  }
 ],
 "metadata": {
  "kernelspec": {
   "display_name": "Python 3",
   "language": "python",
   "name": "python3"
  },
  "language_info": {
   "codemirror_mode": {
    "name": "ipython",
    "version": 3
   },
   "file_extension": ".py",
   "mimetype": "text/x-python",
   "name": "python",
   "nbconvert_exporter": "python",
   "pygments_lexer": "ipython3",
   "version": "3.7.3"
  }
 },
 "nbformat": 4,
 "nbformat_minor": 2
}
